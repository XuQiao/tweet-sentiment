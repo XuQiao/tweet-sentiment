{
 "cells": [
  {
   "cell_type": "code",
   "execution_count": 46,
   "metadata": {},
   "outputs": [
    {
     "name": "stdout",
     "output_type": "stream",
     "text": [
      "TensorFlow 1.14.0\n"
     ]
    }
   ],
   "source": [
    "import pandas as pd, numpy as np\n",
    "import matplotlib.pyplot as plt\n",
    "import tensorflow as tf\n",
    "import tensorflow.keras.backend as K\n",
    "from nltk import word_tokenize\n",
    "from collections import Counter\n",
    "import re, string\n",
    "\n",
    "#from transformers import *\n",
    "#import tokenizers\n",
    "from IPython.core.display import display, HTML\n",
    "print('TensorFlow',tf.__version__)\n",
    "#nltk.download('punkt')"
   ]
  },
  {
   "cell_type": "code",
   "execution_count": 417,
   "metadata": {},
   "outputs": [
    {
     "data": {
      "text/html": [
       "<div>\n",
       "<style scoped>\n",
       "    .dataframe tbody tr th:only-of-type {\n",
       "        vertical-align: middle;\n",
       "    }\n",
       "\n",
       "    .dataframe tbody tr th {\n",
       "        vertical-align: top;\n",
       "    }\n",
       "\n",
       "    .dataframe thead th {\n",
       "        text-align: right;\n",
       "    }\n",
       "</style>\n",
       "<table border=\"1\" class=\"dataframe\">\n",
       "  <thead>\n",
       "    <tr style=\"text-align: right;\">\n",
       "      <th></th>\n",
       "      <th>textID</th>\n",
       "      <th>text</th>\n",
       "      <th>selected_text</th>\n",
       "      <th>sentiment</th>\n",
       "    </tr>\n",
       "  </thead>\n",
       "  <tbody>\n",
       "    <tr>\n",
       "      <th>0</th>\n",
       "      <td>cb774db0d1</td>\n",
       "      <td>I`d have responded, if I were going</td>\n",
       "      <td>I`d have responded, if I were going</td>\n",
       "      <td>neutral</td>\n",
       "    </tr>\n",
       "    <tr>\n",
       "      <th>1</th>\n",
       "      <td>549e992a42</td>\n",
       "      <td>Sooo SAD I will miss you here in San Diego!!!</td>\n",
       "      <td>Sooo SAD</td>\n",
       "      <td>negative</td>\n",
       "    </tr>\n",
       "    <tr>\n",
       "      <th>2</th>\n",
       "      <td>088c60f138</td>\n",
       "      <td>my boss is bullying me...</td>\n",
       "      <td>bullying me</td>\n",
       "      <td>negative</td>\n",
       "    </tr>\n",
       "    <tr>\n",
       "      <th>3</th>\n",
       "      <td>9642c003ef</td>\n",
       "      <td>what interview! leave me alone</td>\n",
       "      <td>leave me alone</td>\n",
       "      <td>negative</td>\n",
       "    </tr>\n",
       "    <tr>\n",
       "      <th>4</th>\n",
       "      <td>358bd9e861</td>\n",
       "      <td>Sons of ****, why couldn`t they put them on t...</td>\n",
       "      <td>Sons of ****,</td>\n",
       "      <td>negative</td>\n",
       "    </tr>\n",
       "  </tbody>\n",
       "</table>\n",
       "</div>"
      ],
      "text/plain": [
       "       textID                                               text  \\\n",
       "0  cb774db0d1                I`d have responded, if I were going   \n",
       "1  549e992a42      Sooo SAD I will miss you here in San Diego!!!   \n",
       "2  088c60f138                          my boss is bullying me...   \n",
       "3  9642c003ef                     what interview! leave me alone   \n",
       "4  358bd9e861   Sons of ****, why couldn`t they put them on t...   \n",
       "\n",
       "                         selected_text sentiment  \n",
       "0  I`d have responded, if I were going   neutral  \n",
       "1                             Sooo SAD  negative  \n",
       "2                          bullying me  negative  \n",
       "3                       leave me alone  negative  \n",
       "4                        Sons of ****,  negative  "
      ]
     },
     "execution_count": 417,
     "metadata": {},
     "output_type": "execute_result"
    }
   ],
   "source": [
    "train = pd.read_csv('../input/train.csv').fillna('')\n",
    "train.head()"
   ]
  },
  {
   "cell_type": "code",
   "execution_count": 418,
   "metadata": {},
   "outputs": [
    {
     "data": {
      "text/html": [
       "<div>\n",
       "<style scoped>\n",
       "    .dataframe tbody tr th:only-of-type {\n",
       "        vertical-align: middle;\n",
       "    }\n",
       "\n",
       "    .dataframe tbody tr th {\n",
       "        vertical-align: top;\n",
       "    }\n",
       "\n",
       "    .dataframe thead th {\n",
       "        text-align: right;\n",
       "    }\n",
       "</style>\n",
       "<table border=\"1\" class=\"dataframe\">\n",
       "  <thead>\n",
       "    <tr style=\"text-align: right;\">\n",
       "      <th></th>\n",
       "      <th>textID</th>\n",
       "      <th>text</th>\n",
       "      <th>sentiment</th>\n",
       "    </tr>\n",
       "  </thead>\n",
       "  <tbody>\n",
       "    <tr>\n",
       "      <th>0</th>\n",
       "      <td>f87dea47db</td>\n",
       "      <td>Last session of the day  http://twitpic.com/67ezh</td>\n",
       "      <td>neutral</td>\n",
       "    </tr>\n",
       "    <tr>\n",
       "      <th>1</th>\n",
       "      <td>96d74cb729</td>\n",
       "      <td>Shanghai is also really exciting (precisely -...</td>\n",
       "      <td>positive</td>\n",
       "    </tr>\n",
       "    <tr>\n",
       "      <th>2</th>\n",
       "      <td>eee518ae67</td>\n",
       "      <td>Recession hit Veronique Branquinho, she has to...</td>\n",
       "      <td>negative</td>\n",
       "    </tr>\n",
       "    <tr>\n",
       "      <th>3</th>\n",
       "      <td>01082688c6</td>\n",
       "      <td>happy bday!</td>\n",
       "      <td>positive</td>\n",
       "    </tr>\n",
       "    <tr>\n",
       "      <th>4</th>\n",
       "      <td>33987a8ee5</td>\n",
       "      <td>http://twitpic.com/4w75p - I like it!!</td>\n",
       "      <td>positive</td>\n",
       "    </tr>\n",
       "  </tbody>\n",
       "</table>\n",
       "</div>"
      ],
      "text/plain": [
       "       textID                                               text sentiment\n",
       "0  f87dea47db  Last session of the day  http://twitpic.com/67ezh   neutral\n",
       "1  96d74cb729   Shanghai is also really exciting (precisely -...  positive\n",
       "2  eee518ae67  Recession hit Veronique Branquinho, she has to...  negative\n",
       "3  01082688c6                                        happy bday!  positive\n",
       "4  33987a8ee5             http://twitpic.com/4w75p - I like it!!  positive"
      ]
     },
     "execution_count": 418,
     "metadata": {},
     "output_type": "execute_result"
    }
   ],
   "source": [
    "test = pd.read_csv('../input/test.csv').fillna('')\n",
    "test.head()"
   ]
  },
  {
   "cell_type": "code",
   "execution_count": 629,
   "metadata": {},
   "outputs": [],
   "source": [
    "def load_data(data):\n",
    "    \"\"\"\n",
    "    Load the training data into the training format\n",
    "    remove punctuation and return a list of tokens\n",
    "    \"\"\"\n",
    "    # Removing excess punctuation and newline\n",
    "    #pattern = re.compile('[%s]' % re.escape(string.punctuation))\n",
    "    #data = pd.Series([pattern.sub('', h.strip(\"\\n\")).split(' ') for h in data])\n",
    "    data = pd.Series([h.lower().split(' ') for h in data])\n",
    "    #data = [word_tokenize(h) for h in data]\n",
    "    return data\n",
    "def remove_neutral(data):\n",
    "    data = data[data['sentiment'] != 'neutral']\n",
    "    return data"
   ]
  },
  {
   "cell_type": "code",
   "execution_count": 591,
   "metadata": {},
   "outputs": [],
   "source": [
    "train['tokens'] = load_data(train['text'])\n",
    "test['tokens'] = load_data(test['text'])"
   ]
  },
  {
   "cell_type": "code",
   "execution_count": 592,
   "metadata": {},
   "outputs": [],
   "source": [
    "END = '<END>'\n",
    "UNK = '<UNK>'\n",
    "def gen_vocab(dataset, min_token_ct=0):\n",
    "    \"\"\"\n",
    "    For given training data, list of vocabulary list, i.g.\n",
    "    [[\"this\", \"set\", \"1\"],\n",
    "     [\"this\", \"is\", \"another\", \"set\"],\n",
    "     ]\n",
    "     \n",
    "    return the vocab list and rev_vocab dictionary\n",
    "    3 numerical encodings are reserved: {<UNK>:0, <START>:1, <END>:2}\n",
    "    \"\"\"\n",
    "    token_ct = Counter([token for row in dataset for token in row])\n",
    "    token_ct = {k: v for k, v in token_ct.items() if v >= min_token_ct}\n",
    "    vocab = sorted(token_ct, key=token_ct.get, reverse=True)\n",
    "    vocab = vocab + [UNK, END]\n",
    "    rev_vocab = {fea: fid for fid, fea in enumerate(vocab)}\n",
    "    \n",
    "    return vocab, rev_vocab"
   ]
  },
  {
   "cell_type": "code",
   "execution_count": 593,
   "metadata": {},
   "outputs": [],
   "source": [
    "def load_embedding(filename, vocab=None):\n",
    "    \"\"\"\n",
    "    Load the embedding file into a pandas DF\n",
    "    \n",
    "    If a vocab set is provided, only return the subset in the vocab list, if tokens\n",
    "    in the vocab list is not present in the embedding, use randomalized value\n",
    "    \"\"\"\n",
    "    embedding = pd.read_csv(filename)\n",
    "    if vocab:\n",
    "        m = []\n",
    "        normalize = (embedding**2).sum(axis=0).mean()\n",
    "        embedding_dim = embedding.shape[0]\n",
    "        \n",
    "        for t in vocab:\n",
    "            v = embedding.get(t)\n",
    "            if v is None:\n",
    "                v0 = np.random.rand(embedding.shape[0]) - 0.5\n",
    "                # apply normalization so the expected module is equal to the \n",
    "                # average module of the embedding matrix\n",
    "                v = v0 * 2 * np.random.rand() * np.sqrt(normalize / (v0**2).sum())\n",
    "                \n",
    "            m.append(v)\n",
    "            \n",
    "        embedding = pd.DataFrame(m , index=vocab)\n",
    "    \n",
    "    return embedding"
   ]
  },
  {
   "cell_type": "code",
   "execution_count": 594,
   "metadata": {},
   "outputs": [],
   "source": [
    "def to_embedding(X):\n",
    "    \"\"\"\n",
    "    For the 2 dimensional input X filled with the vocabulary label, return an np.array of their embedding\n",
    "    input:\n",
    "    X: np.array(n_sample, sent_len)\n",
    "                return:\n",
    "                    embdding\n",
    "    \"\"\"\n",
    "    embedding = np.zeros((len(X), len(X[0]), glove.shape[1]))\n",
    "    for i in range(len(X)):\n",
    "        for j in range(len(X[0])):\n",
    "            embedding[i,j,:] = glove[X[i][j]]\n",
    "    return embedding"
   ]
  },
  {
   "cell_type": "code",
   "execution_count": 595,
   "metadata": {},
   "outputs": [],
   "source": [
    "vocab, re_vocab = gen_vocab(train['tokens'], 4)"
   ]
  },
  {
   "cell_type": "code",
   "execution_count": 596,
   "metadata": {},
   "outputs": [],
   "source": [
    "glove = load_embedding('../input/glove_6B_100d_top100k.csv', vocab=vocab)\n",
    "glove.T.head()\n",
    "glove = glove.values"
   ]
  },
  {
   "cell_type": "code",
   "execution_count": 630,
   "metadata": {},
   "outputs": [],
   "source": [
    "MAX_LEN = 96\n",
    "#sentiment_tar = {'positive': 1, 'negative': -1, 'neutral': 0}\n",
    "sentiment_tar = {'positive': 1, 'negative': 0}"
   ]
  },
  {
   "cell_type": "code",
   "execution_count": 631,
   "metadata": {},
   "outputs": [],
   "source": [
    "from keras.preprocessing.sequence import pad_sequences\n",
    "from keras.utils import to_categorical \n",
    "import random\n",
    "\n",
    "def to_label_X(token):\n",
    "    return re_vocab.get(token, re_vocab[UNK])\n",
    "    \n",
    "def to_label_Y(sentiment):\n",
    "    return sentiment_tar[sentiment]\n",
    "    \n",
    "def gen_sample_RNN(data, batch_size=100, one_hot=True):\n",
    "    \"\"\"\n",
    "    The input is the same to the FNN model, but the output training data is different.\n",
    "    inputs:\n",
    "    data: list of list of string batch_size: int\n",
    "    one_hot: boolean\n",
    "    output:\n",
    "    X: np.array(batch_size, sent_len, embedding_dim)\n",
    "    Y: np.array(batch_size, sent_len, ) or np.array(batch_size, sent_len,\n",
    "    vocab_size) \n",
    "    \"\"\"\n",
    "    if batch_size == -1: batch_size = len(data)\n",
    "    while True:\n",
    "        # Shuffle the data so data order is different for different epochs random.shuffle(data)\n",
    "        X, Y = [], [] \n",
    "        for index, s in data.iterrows():\n",
    "            X.append([to_label_X(t) for t in s['tokens']]) \n",
    "            Y.append(to_label_Y(s['sentiment']))\n",
    "            if len(X) >= batch_size:\n",
    "                X = pad_sequences(sequences=X, maxlen=MAX_LEN, padding='post', value=to_label_X(END))\n",
    "                if one_hot:\n",
    "                    Y = to_categorical(Y, num_classes=len(sentiment_tar))\n",
    "                #yield to_embedding(X), Y\n",
    "                yield X, Y\n",
    "                X, Y = [], []"
   ]
  },
  {
   "cell_type": "code",
   "execution_count": 632,
   "metadata": {},
   "outputs": [],
   "source": [
    "X_dev_RNN, y_dev_RNN = next(gen_sample_RNN(remove_neutral(test), batch_size=-1, one_hot=True))"
   ]
  },
  {
   "cell_type": "code",
   "execution_count": 674,
   "metadata": {},
   "outputs": [
    {
     "name": "stdout",
     "output_type": "stream",
     "text": [
      "Model: \"sequential_37\"\n",
      "_________________________________________________________________\n",
      "Layer (type)                 Output Shape              Param #   \n",
      "=================================================================\n",
      "embedding_22 (Embedding)     (None, 96, 100)           632400    \n",
      "_________________________________________________________________\n",
      "dropout_12 (Dropout)         (None, 96, 100)           0         \n",
      "_________________________________________________________________\n",
      "dense_49 (Dense)             (None, 96, 100)           10100     \n",
      "_________________________________________________________________\n",
      "conv1d_15 (Conv1D)           (None, 93, 300)           120300    \n",
      "_________________________________________________________________\n",
      "global_max_pooling1d_10 (Glo (None, 300)               0         \n",
      "_________________________________________________________________\n",
      "dense_50 (Dense)             (None, 2)                 602       \n",
      "=================================================================\n",
      "Total params: 763,402\n",
      "Trainable params: 763,402\n",
      "Non-trainable params: 0\n",
      "_________________________________________________________________\n"
     ]
    }
   ],
   "source": [
    "from keras.layers import Dense, LSTM, Activation, TimeDistributed, Embedding, Conv1D, GlobalMaxPooling1D, Bidirectional\n",
    "from keras.models import Sequential\n",
    "from keras.layers import Dropout\n",
    "\n",
    "RNN_pred_model = Sequential()\n",
    "#RNN_pred_model.add(LSTM(128, input_shape=(MAX_LEN, glove.shape[1]), return_sequences=True))\n",
    "RNN_pred_model.add(Embedding(input_dim=len(vocab), weights=[glove],\n",
    "                             input_length=MAX_LEN, output_dim=glove.shape[1]))\n",
    "RNN_pred_model.add(Dropout(0.4))\n",
    "#RNN_pred_model.add(Bidirectional(LSTM(128, input_shape=(MAX_LEN, glove.shape[1]), return_sequences=True)))\n",
    "#RNN_pred_model.add(Bidirectional(LSTM(128, input_shape=(MAX_LEN, glove.shape[1]), return_sequences=True)))\n",
    "RNN_pred_model.add(Dense(100, activation=\"relu\"))\n",
    "RNN_pred_model.add(Conv1D(filters=300, kernel_size=4, activation=\"relu\")) \n",
    "RNN_pred_model.add(GlobalMaxPooling1D())\n",
    "RNN_pred_model.add(Dense(len(sentiment_tar), activation='softmax'))\n",
    "RNN_pred_model.summary()"
   ]
  },
  {
   "cell_type": "code",
   "execution_count": 675,
   "metadata": {},
   "outputs": [
    {
     "name": "stdout",
     "output_type": "stream",
     "text": [
      "Epoch 1/10\n",
      "431/430 [==============================] - 29s 67ms/step - loss: 0.5063 - accuracy: 0.7370 - val_loss: 0.3382 - val_accuracy: 0.8465\n",
      "Epoch 2/10\n",
      "431/430 [==============================] - 26s 61ms/step - loss: 0.3433 - accuracy: 0.8497 - val_loss: 0.3069 - val_accuracy: 0.8641\n",
      "Epoch 3/10\n",
      "431/430 [==============================] - 28s 64ms/step - loss: 0.2860 - accuracy: 0.8794 - val_loss: 0.2832 - val_accuracy: 0.8764\n",
      "Epoch 4/10\n",
      "431/430 [==============================] - 28s 65ms/step - loss: 0.2491 - accuracy: 0.8983 - val_loss: 0.2773 - val_accuracy: 0.8812\n",
      "Epoch 5/10\n",
      "431/430 [==============================] - 26s 60ms/step - loss: 0.2184 - accuracy: 0.9114 - val_loss: 0.2807 - val_accuracy: 0.8855\n",
      "Epoch 6/10\n",
      "431/430 [==============================] - 27s 62ms/step - loss: 0.1922 - accuracy: 0.9220 - val_loss: 0.2927 - val_accuracy: 0.8826\n",
      "Epoch 7/10\n",
      "431/430 [==============================] - 27s 62ms/step - loss: 0.1648 - accuracy: 0.9334 - val_loss: 0.3173 - val_accuracy: 0.8817\n",
      "Epoch 8/10\n",
      "431/430 [==============================] - 28s 66ms/step - loss: 0.1396 - accuracy: 0.9435 - val_loss: 0.3380 - val_accuracy: 0.8721\n",
      "Epoch 9/10\n",
      "431/430 [==============================] - 30s 69ms/step - loss: 0.1276 - accuracy: 0.9499 - val_loss: 0.3606 - val_accuracy: 0.8721\n",
      "Epoch 10/10\n",
      "431/430 [==============================] - 31s 72ms/step - loss: 0.1206 - accuracy: 0.9531 - val_loss: 0.4354 - val_accuracy: 0.8636\n"
     ]
    },
    {
     "data": {
      "text/plain": [
       "<keras.callbacks.callbacks.History at 0x150c20400>"
      ]
     },
     "execution_count": 675,
     "metadata": {},
     "output_type": "execute_result"
    }
   ],
   "source": [
    "from keras.optimizers import Adam\n",
    "adam = Adam(learning_rate=0.001, beta_1=0.9, beta_2=0.999, amsgrad=False)\n",
    "\n",
    "RNN_pred_model.compile(\n",
    "    loss='categorical_crossentropy',\n",
    "    optimizer=adam,\n",
    "    metrics=['accuracy'])\n",
    "batch_size = 64\n",
    "steps_per_epoch = len(train) / batch_size + 1 \n",
    "RNN_pred_model.fit_generator(\n",
    "    gen_sample_RNN(remove_neutral(train), batch_size=batch_size, one_hot=True),\n",
    "    validation_data=(X_dev_RNN, y_dev_RNN),\n",
    "    epochs = 10, steps_per_epoch=steps_per_epoch)\n",
    "    #callbacks=[LambdaCallback(on_epoch_end=on_epoch_end_RNN)])"
   ]
  },
  {
   "cell_type": "code",
   "execution_count": 682,
   "metadata": {},
   "outputs": [],
   "source": [
    "def seqtosent(model, text):\n",
    "    X = [[to_label_X(t) for t in text]]\n",
    "    #X = to_embedding([X])\n",
    "    X = pad_sequences(sequences=X, maxlen=MAX_LEN, padding='post', value=to_label_X(END))\n",
    "    score = np.dot([0,1], model.predict(X)[0])\n",
    "    return score\n",
    "\n",
    "def select_text(model, text, sentiment):\n",
    "    if sentiment == 'neutral':\n",
    "        return text\n",
    "    s = len(text)\n",
    "    y = to_label_Y(sentiment)\n",
    "    if (seqtosent(model, text)-0.5) * (y - 0.5) < 0 or s > 14:\n",
    "        return text\n",
    "    scores = {}\n",
    "    #for p in range(1,s+1):\n",
    "    #    text_sub = text[:p]\n",
    "    #    scores.append(seqtosent(model, text_sub))\n",
    "    \n",
    "    start, l = 0, s\n",
    "    for start in range(0,s):\n",
    "        for l in range(1,s+1):\n",
    "            text_sub = text[start:start+l]\n",
    "            scores[(start,l)] = seqtosent(model, text_sub)\n",
    "    if y == 1:\n",
    "        start, l = max(scores, key=scores.get)\n",
    "    if y == 0:\n",
    "        start, l = min(scores, key=scores.get)\n",
    "\n",
    "    return text[start:start+l]"
   ]
  },
  {
   "cell_type": "code",
   "execution_count": 683,
   "metadata": {},
   "outputs": [],
   "source": [
    "def jaccard(str1, str2): \n",
    "    a = set(str1.lower().split()) \n",
    "    b = set(str2.lower().split())\n",
    "    c = a.intersection(b)\n",
    "    if len(a) == 0 and len(b) == 0:\n",
    "        return 1\n",
    "    return float(len(c)) / (len(a) + len(b) - len(c))"
   ]
  },
  {
   "cell_type": "code",
   "execution_count": 687,
   "metadata": {},
   "outputs": [],
   "source": [
    "def calc_jaccard_baseline(data):\n",
    "    score = 0\n",
    "    for index, s in data.iterrows():\n",
    "        text = s['tokens']\n",
    "        label = s['sentiment']\n",
    "        selected = text\n",
    "        selected = ' '.join(selected)\n",
    "        jac = jaccard(s['selected_text'], selected)\n",
    "        score += jac\n",
    "    return score / len(data)\n",
    "\n",
    "def calc_jaccard(data):\n",
    "    score = 0\n",
    "    for index, s in data.iterrows():\n",
    "        text = s['tokens']\n",
    "        label = s['sentiment']\n",
    "        selected = select_text(RNN_pred_model,text,label)\n",
    "        selected = ' '.join(selected)\n",
    "        #print(s['selected_text'])\n",
    "        #print(selected)\n",
    "        jac = jaccard(s['selected_text'], selected)\n",
    "        score += jac\n",
    "        #print(jac)\n",
    "    return score / len(data)"
   ]
  },
  {
   "cell_type": "code",
   "execution_count": 688,
   "metadata": {},
   "outputs": [
    {
     "data": {
      "text/plain": [
       "0.592234932898034"
      ]
     },
     "execution_count": 688,
     "metadata": {},
     "output_type": "execute_result"
    }
   ],
   "source": [
    "calc_jaccard(train)"
   ]
  },
  {
   "cell_type": "code",
   "execution_count": 689,
   "metadata": {},
   "outputs": [
    {
     "data": {
      "text/plain": [
       "0.9764467881939682"
      ]
     },
     "execution_count": 689,
     "metadata": {},
     "output_type": "execute_result"
    }
   ],
   "source": [
    "calc_jaccard_baseline(train[train['sentiment']=='neutral'])"
   ]
  },
  {
   "cell_type": "code",
   "execution_count": 690,
   "metadata": {},
   "outputs": [
    {
     "data": {
      "text/plain": [
       "0.3311784391511351"
      ]
     },
     "execution_count": 690,
     "metadata": {},
     "output_type": "execute_result"
    }
   ],
   "source": [
    "calc_jaccard(remove_neutral(train))"
   ]
  },
  {
   "cell_type": "code",
   "execution_count": null,
   "metadata": {},
   "outputs": [],
   "source": []
  }
 ],
 "metadata": {
  "kernelspec": {
   "display_name": "Python 3",
   "language": "python",
   "name": "python3"
  },
  "language_info": {
   "codemirror_mode": {
    "name": "ipython",
    "version": 3
   },
   "file_extension": ".py",
   "mimetype": "text/x-python",
   "name": "python",
   "nbconvert_exporter": "python",
   "pygments_lexer": "ipython3",
   "version": "3.7.3"
  }
 },
 "nbformat": 4,
 "nbformat_minor": 4
}
